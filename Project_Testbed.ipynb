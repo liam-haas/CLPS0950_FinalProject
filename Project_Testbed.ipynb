{
  "nbformat": 4,
  "nbformat_minor": 0,
  "metadata": {
    "colab": {
      "provenance": []
    },
    "kernelspec": {
      "name": "python3",
      "display_name": "Python 3"
    }
  },
  "cells": [
    {
      "cell_type": "code",
      "source": [
        "import numpy as np\n",
        "\n",
        "A = 'C=CC'\n",
        "B = 'C=CC=C'\n",
        "\n",
        "indices = [index for index in range(len(B)) if B.startswith('=',index)]\n",
        "print(indices) # prints all occurances of double bonds in the SMILES string\n",
        "\n",
        "\n",
        "for n in range(0,len(indices)):\n",
        "  a = indices[n]\n",
        "  if B[a-1] == 'C' and B[a+1] == 'C':\n",
        "    print('Alkene found at position ', a)\n",
        "  else:\n",
        "    continue\n"
      ],
      "metadata": {
        "colab": {
          "base_uri": "https://localhost:8080/"
        },
        "id": "YAs1scTsV4gx",
        "outputId": "61bb396e-20df-4edc-8b08-edaa4469ce30"
      },
      "execution_count": null,
      "outputs": [
        {
          "output_type": "stream",
          "name": "stdout",
          "text": [
            "[1, 4]\n",
            "Alkene found at position  1\n",
            "Alkene found at position  4\n"
          ]
        }
      ]
    }
  ]
}