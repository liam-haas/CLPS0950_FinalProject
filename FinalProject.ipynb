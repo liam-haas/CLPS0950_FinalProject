{
  "cells": [
    {
      "cell_type": "markdown",
      "metadata": {
        "colab_type": "text",
        "id": "view-in-github"
      },
      "source": [
        "<a href=\"https://colab.research.google.com/github/liam-haas/CLPS0950_FinalProject/blob/main/FinalProject.ipynb\" target=\"_parent\"><img src=\"https://colab.research.google.com/assets/colab-badge.svg\" alt=\"Open In Colab\"/></a>"
      ]
    },
    {
      "cell_type": "code",
      "execution_count": 1,
      "metadata": {
        "id": "cimhZqo4vojr"
      },
      "outputs": [],
      "source": [
        "%%capture\n",
        "%pip install rdkit-pypi"
      ]
    },
    {
      "cell_type": "code",
      "execution_count": 2,
      "metadata": {
        "id": "DuKkvZqUtHUC"
      },
      "outputs": [],
      "source": [
        "from rdkit import Chem\n",
        "from rdkit.Chem import *\n",
        "from rdkit.Chem import Draw\n",
        "from rdkit.Chem.Draw import IPythonConsole\n",
        "from rdkit.Chem import Descriptors\n",
        "from rdkit.Chem import AllChem\n",
        "from rdkit import DataStructs\n",
        "from rdkit.Chem import PandasTools\n",
        "from rdkit.Chem import RDKFingerprint\n",
        "import numpy as np"
      ]
    },
    {
      "cell_type": "code",
      "execution_count": null,
      "metadata": {
        "colab": {
          "base_uri": "https://localhost:8080/",
          "height": 167
        },
        "id": "k4w2vHeE_JEq",
        "outputId": "75615486-86cb-4cfa-b802-60b79b0758dc"
      },
      "outputs": [
        {
          "data": {
            "image/png": "[encoded data removed]",
            "text/plain": [
              "<rdkit.Chem.rdchem.Mol at 0x7f7c26aff920>"
            ]
          },
          "execution_count": 4,
          "metadata": {},
          "output_type": "execute_result"
        }
      ],
      "source": [
        "test = Chem.MolFromSmiles('C=CC1=CC=CC=C1')\n",
        "test"
      ]
    },
    {
      "cell_type": "code",
      "execution_count": null,
      "metadata": {
        "colab": {
          "base_uri": "https://localhost:8080/"
        },
        "id": "k8oGnh3KD9zo",
        "outputId": "85037c20-97e7-4b15-a010-a4179ef119f1"
      },
      "outputs": [
        {
          "data": {
            "text/plain": [
              "True"
            ]
          },
          "execution_count": 5,
          "metadata": {},
          "output_type": "execute_result"
        }
      ],
      "source": [
        "substruc = Chem.MolFromSmiles('c1ccccc1')\n",
        "test.HasSubstructMatch(substruc)"
      ]
    },
    {
      "cell_type": "code",
      "execution_count": 3,
      "metadata": {
        "colab": {
          "base_uri": "https://localhost:8080/"
        },
        "id": "MDXcUjMZF0yk",
        "outputId": "cb8dabb0-229d-4c4e-98f0-46107da4908c"
      },
      "outputs": [
        {
          "name": "stdout",
          "output_type": "stream",
          "text": [
            "Mounted at /content/drive\n"
          ]
        }
      ],
      "source": [
        "from google.colab import drive\n",
        "drive.mount('/content/drive', force_remount = True)"
      ]
    },
    {
      "cell_type": "code",
      "execution_count": 95,
      "metadata": {
        "id": "XAUi_t9XJTEe"
      },
      "outputs": [],
      "source": [
        "import pandas as pd\n",
        "\n",
        "test_table = pd.read_csv('/content/drive/MyDrive/Test SMILES sequences - Classes.csv')\n",
        "test_table = test_table.dropna(axis = 1)"
      ]
    },
    {
      "cell_type": "code",
      "execution_count": 96,
      "metadata": {
        "colab": {
          "base_uri": "https://localhost:8080/",
          "height": 1000
        },
        "id": "Fi4HJswDKfRg",
        "outputId": "cc5a5710-8f6b-4fc3-c033-160fa65fcd2e"
      },
      "outputs": [
        {
          "data": {
            "text/html": [
              "\n",
              "  <div id=\"df-57be0618-b695-4062-badb-14214b4fdbc2\">\n",
              "    <div class=\"colab-df-container\">\n",
              "      <div>\n",
              "<style scoped>\n",
              "    .dataframe tbody tr th:only-of-type {\n",
              "        vertical-align: middle;\n",
              "    }\n",
              "\n",
              "    .dataframe tbody tr th {\n",
              "        vertical-align: top;\n",
              "    }\n",
              "\n",
              "    .dataframe thead th {\n",
              "        text-align: right;\n",
              "    }\n",
              "</style>\n",
              "<table border=\"1\" class=\"dataframe\">\n",
              "  <thead>\n",
              "    <tr style=\"text-align: right;\">\n",
              "      <th></th>\n",
              "      <th>SMILES sequence</th>\n",
              "      <th>Class</th>\n",
              "      <th>Molecule</th>\n",
              "    </tr>\n",
              "  </thead>\n",
              "  <tbody>\n",
              "    <tr>\n",
              "      <th>0</th>\n",
              "      <td>C=C</td>\n",
              "      <td>0</td>\n",
              "      <td style=\"text-align: center;\"><div style=\"width: 200px; height: 200px\" data-content=\"rdkit/molecule\"><img src=\"data:image/png;base64,iVBORw0KGgoAAAANSUhEUgAAAMgAAADICAIAAAAiOjnJAAAABmJLR0QA/wD/AP+gvaeTAAACdElEQVR4nO3csXHCQBBAUeNxokiZKhNdUA50QXNEhOcKpIDxlwf7vXSTDf5oLlmdxhgf8NM+f3sB/iZhkRAWCWGREBYJYZEQFglhkRAWCWGREBYJYZEQFglhkRAWCWGREBYJYZEQFglhkRAWCWGREBYJYZEQFglhkRAWCWGREBYJYZEQFglhkRAWCWGREBYJYZEQFglhkRAWCWGREBYJYZEQFglhkRAWCWGREBYJYZEQFglhkRAWCWGREBYJYZEQFglhkRAWCWGREBYJYZEQFglhkRAWCWGREBYJYZEQFglhkRAWCWGREBYJYZEQFglhkRAWCWGREBYJYZEQFglhkRAWCWGREBYJYZH42pldLpfH43HYKryXeZ6v1+vmeGxbluXAPXkzy7LsxLP3xbrdbs/n87BFeS/TNO1MT2OMw1bh//B4JyEsEsIiISwSwiIhLBLCIiEsEsIiISwSwiIhLBLCIiEsEsIiISwSwiIhLBLCIiEsEsIiISwSwiKxd7B6v98drLJlmqZ1XTfHTux5zesn9ufz2U9B2DLP887UiT0Jj3cSwiIhLBLCIiEsEsIiISwSwiIhLBLCIiEsEsIiISwSwiIhLBLCIiEsEsIiISwSwiIhLBLCIiEsEsIiISwSwiIhLBLCIiEsEsIiISwSwiIhLBLCIiEsEsIiISwSwiIhLBLCIiEsEsIiISwSwiIhLBLCIiEsEsIiISwSwiIhLBLCIiEsEsIiISwSwiIhLBLCIiEsEsIiISwSwiIhLBLCIiEsEsIiISwSwiIhLBLCIiEsEsIiISwSwiIhLBLCIiEsEsIiISwSwiIhLBLCIiEsEsIi8Q3gs4vjPFEe6gAAAFl6VFh0cmRraXRQS0wgcmRraXQgMjAyMi4wOS41AAB4nHu/b+09BiDgZYAAJihmBOIGRjaGDCDNzMQEZ3AzMHIwiYBUiitBlcH0OewHalGBcB3sgewlIJYYANg8CHiIMVvYAAAAmHpUWHRNT0wgcmRraXQgMjAyMi4wOS41AAB4nONSAIEgF+/MEgU4MHLh4lJQMMCDLC0tFcKMDQwMuHwVQAwFJ1d3Tz8F5xBHJ5iIs3+oX0iwgpGCIVAHEKKqdAzx94WJGCo4K+ga6JmbAs0DKtQzMEBjwBQaARXC1eniUejq54JiA8ROJ38/F4SdIIcZIWtAlgbxYZ4BsrkA5RU5I/S817oAAAAyelRYdFNNSUxFUyByZGtpdCAyMDIyLjA5LjUAAHicc7Z1VqjR0DXQMzfVMdCxhtKaNQBBuQU5aPyKdQAAAABJRU5ErkJggg==\" alt=\"Mol\"/></div></td>\n",
              "    </tr>\n",
              "    <tr>\n",
              "      <th>1</th>\n",
              "      <td>C=CC</td>\n",
              "      <td>0</td>\n",
              "      <td style=\"text-align: center;\"><div style=\"width: 200px; height: 200px\" data-content=\"rdkit/molecule\"><img src=\"data:image/png;base64,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\" alt=\"Mol\"/></div></td>\n",
              "    </tr>\n",
              "    <tr>\n",
              "      <th>2</th>\n",
              "      <td>C=CCC</td>\n",
              "      <td>0</td>\n",
              "      <td style=\"text-align: center;\"><div style=\"width: 200px; height: 200px\" data-content=\"rdkit/molecule\"><img src=\"data:image/png;base64,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\" alt=\"Mol\"/></div></td>\n",
              "    </tr>\n",
              "    <tr>\n",
              "      <th>3</th>\n",
              "      <td>C/C=C/C</td>\n",
              "      <td>0</td>\n",
              "      <td style=\"text-align: center;\"><div style=\"width: 200px; height: 200px\" data-content=\"rdkit/molecule\"><img src=\"data:image/png;base64,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\" alt=\"Mol\"/></div></td>\n",
              "    </tr>\n",
              "    <tr>\n",
              "      <th>4</th>\n",
              "      <td>C=CCCC</td>\n",
              "      <td>0</td>\n",
              "      <td style=\"text-align: center;\"><div style=\"width: 200px; height: 200px\" data-content=\"rdkit/molecule\"><img src=\"data:image/png;base64,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\" alt=\"Mol\"/></div></td>\n",
              "    </tr>\n",
              "    <tr>\n",
              "      <th>...</th>\n",
              "      <td>...</td>\n",
              "      <td>...</td>\n",
              "      <td>...</td>\n",
              "    </tr>\n",
              "    <tr>\n",
              "      <th>93</th>\n",
              "      <td>I/C(C)=C/C</td>\n",
              "      <td>5</td>\n",
              "      <td style=\"text-align: center;\"><div style=\"width: 200px; height: 200px\" data-content=\"rdkit/molecule\"><img src=\"data:image/png;base64,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\" alt=\"Mol\"/></div></td>\n",
              "    </tr>\n",
              "    <tr>\n",
              "      <th>94</th>\n",
              "      <td>I/C(C)=C(C)/C</td>\n",
              "      <td>5</td>\n",
              "      <td style=\"text-align: center;\"><div style=\"width: 200px; height: 200px\" data-content=\"rdkit/molecule\"><img src=\"data:image/png;base64,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\" alt=\"Mol\"/></div></td>\n",
              "    </tr>\n",
              "    <tr>\n",
              "      <th>95</th>\n",
              "      <td>I/C(C)=C(C)/CC</td>\n",
              "      <td>5</td>\n",
              "      <td style=\"text-align: center;\"><div style=\"width: 200px; height: 200px\" data-content=\"rdkit/molecule\"><img src=\"data:image/png;base64,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\" alt=\"Mol\"/></div></td>\n",
              "    </tr>\n",
              "    <tr>\n",
              "      <th>96</th>\n",
              "      <td>I/C(CC)=C(C)/C</td>\n",
              "      <td>5</td>\n",
              "      <td style=\"text-align: center;\"><div style=\"width: 200px; height: 200px\" data-content=\"rdkit/molecule\"><img src=\"data:image/png;base64,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\" alt=\"Mol\"/></div></td>\n",
              "    </tr>\n",
              "    <tr>\n",
              "      <th>97</th>\n",
              "      <td>I/C(C)=C(CC)/C</td>\n",
              "      <td>5</td>\n",
              "      <td style=\"text-align: center;\"><div style=\"width: 200px; height: 200px\" data-content=\"rdkit/molecule\"><img src=\"data:image/png;base64,iVBORw0KGgoAAAANSUhEUgAAAMgAAADICAIAAAAiOjnJAAAABmJLR0QA/wD/AP+gvaeTAAAQkUlEQVR4nO3da1RUZdsH8GtmGBgQEbQgRUzFYUASFI+hZpKQpYCQ6PIYSqFpCCoZuRIlTZRW2bJylZot85RFUsqyk2lqmtYjoogcRPAQPqC8IOMIMzAz9/thPy/rfXKcEdj3fc/h+n3de7H/sv5cM+57HySEEEBIbFLeAZB9wmIhKrBYiAosFqICi4WowGIhKrBYiAosFqICi4WowGIhKrBYiAosFqICi4WowGIhKrBYiAon3gFsBAG9lgCAk0ICEt5hbAFOrEeirjLuDVTvDVSrq4y8s9gGLBaiAouFqMBiISqwWIgKLBaiAouFqMBiISqwWIgKLBaiAouFqMBiISqwWIgKLFZHNJQadHfxKT3mYLHarezLlvxJmgubtLyDWDUsVrs98bQTAJTtamkoNfDOYr2wWO3WTSkNmOlMDPBXFg6th5LgE/0ehaEF7pYZAMBTJZM5Q0sjyRt3T9dAxm9384uU805njXBiPRKZM/QYJOsxSCZzBgBw7iYJTVMAwL/Wag0tnLNZJyxWB6lmO3sFyu5dN5bs0PHOYo2wWB0kcYJhmQoAKNqsa76NXyf+CYvVcT1HO/lFylvvk/Pv4bf4f8JidcqwVQqZM1zNbam7gKce/gsWq1O6PikNnOdCjPDXmmbAz8P/B4vVWSGpLq7ekjsFhqqDrbyzWBEsVmfJu0iGpCsA4Fy2Vt+EU+s/sFgi8E9wfixU1vRvY/FneOrhP7BYIpBIYfgaV5DApU9b7lfjPfgAWCyxPB4m6xstN2jJuQ146gEAiyWiYSsVTm6Sawdba8/qeWfhD4slGree0uBkZwD4K0tLHP6sFhZLTE+95tLFV1pfbKj4xtGXprFYYpIpJEMzFABwPkfbcs+hTz1gsUTWN0buM9JJ+z+k6COHPvWAxRLf8NUKiRRKdujUlY576gGLJb7uwTL/BGdjK/zrXcc99YDFoiLsTYVzV8nfR1qrf3PQUw9YLCoUPSSDUlyuq35IWhur1ztit7BYtCgTJbuuZf509PCWLVt4Z+EA79Kh6ODBg7GxsV5eXuXl5Y899hjvOEzhxKIoJiZm4sSJDQ0Nq1ev5p2FNZxYdJWUlISGhhqNxoKCgpCQEN5x2MGJRVdQUNBrr71mMBjS0tJ4Z2EKJxZ1DQ0NAQEBdXV1Bw4ciIuL4x2HEZxY1Hl5ea1ZswYA0tPTtVpHOWWKxWJh4cKFISEhlZWVmzZt4p2FEfwoZOTo0aPPPfecu7t7WVlZr169eMehDicWIxEREXFxcRqNZuXKlbyzsIATi53Kysrg4GCdTnfmzJkRI0bwjkMXTix2+vfvn5aWRghJTU21+79nnFhMaTQalUp169atXbt2zZ49m3ccinBiMeXu7v7uu+8CQEZGhkaj4R2HIiwWay+//PKIESOqq6s3btzIOwtF+FHIwZkzZ8LDw11cXEpKSvr27cs7DhU4sTgYNWrUzJkztVrtihUreGehBScWH9XV1SqV6v79+8eOHXv22Wd5xxEfTiw+fH1933zzTQBIS0szGOzwvmmcWNxotdqgoKBr1659+umnCxYs4B1HZFgsnr755ptp06Y9/vjj5eXlnp6evOOICT8KeUpISBg3btydO3fWrl3LO4vIzE2sixcvKpVKV1dXloHsT11dXWNjo7+/v8mthYWFQ4cOVSgUcrlcIpEwztYZ3t7eZWVlD91MHiInJ0cmk61Zs+ZhO6BHlJyc7OLisnPnTpNbr169KpfLPTw8GFZCHN7e3mb+1Q+dWKdPnx4zZoxCoSgpKXnyyScZh7YbhYWFw4YNk0qlRUVFKpXqwR3i4+Pz8vJmzZr10UcfsY/XGVKptFu3bg/dbKZ006dPB4AZM2Z05u/VwY0bNw4Ali9fbnLrr7/+CgDu7u7V1dWMg9Fmrlg3b97s0qULAJw4cYJZIHuyf/9+APD29m5oaHhwq16vF24IW79+PftstJkrFiEkMzMTAIYMGWIwGNgEshtNTU3COuDWrVtN7vDJJ58AQL9+/ZqbmxlnY8BCsZqamoQvWJ9//jmbQHYjKysLAAYPHqzX6x/cWl9fL9x0/+2337LPxoCFYhFC9uzZI8zzu3fvMghkH/7++2/hW8Rvv/1mcoclS5YAwPjx4xkHY8ZysYxG49ixYwFgxYoVDALZh5kzZwLAtGnTTG69fPmyXC6XyWQXLlxgHIwZy8UihBQUFEilUmdn57KyMtqB7MDp06clEomrq2tVVZXJHSZOnAgAixYtYpuLqUcqFiFk3rx5ABAbG0s1jR0wGAzCHTirVq0yucPBgwcBwMvL686dO4yzsfSoxaqpqRHOhv34449UA9m6HTt2AICvr69Go3lwq06nCwgIAIAPP/yQfTaWHrVYhJANGzYAQFBQUEtLC71ANk2tVvfs2RMAdu/ebXKHnJwcB/kdtqNYbX9tmzdvphfIpgnX7j399NNGo/HBrbW1tcLU/+GHH9hnY6wdxSKEfPfdd47w/aBjrl696uLiIpVKz549a3KHpKQkAIiOjmYcjIv2FYsQ8vzzzwPA4sWLaaSxaVOmTAGAxMREk1sd7X/W7S5W2zmYixcv0ghkoywuJz/zzDMAkJ6ezjgYL+0uFiHk9ddfB4CIiAjR09govV4/aNAgAMjOzja5w759+xxt9aIjxWpb58rLyxM9kC0SLqXq37+/yeXktvXWbdu2sc/GS0eKRSz9Kh2KxT8z4VncQ4YMMbkaba86WKy24b9hwwZxA9mclJQUM18M2q5pO378OONgfHWwWOT/vq527dr11q1bIgayLRaXk2fMmAEA06dPZxyMu44XixASGxsLAPPmzRMrjc0xf/LF4mq0HetUsSyeErRv5k8XGwyG4cOHA8Dq1auZR+OvU8UilhYx7JjFBa7t27cDQO/evU2uRtu9zharbdl1z549ogSyFcJj0x62nNz2a9m7dy/7bNags8Uili4UsUsWl5OFB1854CBvI0Kx2i5ty8zM7PxPswnz588HgJiYGJNbKyoqHPmrp0CEYhEH+++PxeXkmJgYAJg/fz7jYFZFnGIRS7cP2BPzt5YcOXIET+8REYtl8YYn+7B3714zy8mtra3CgsTGjRvZZ7MqohWLWLpF0w60LSdv377d5A6bN28GAH9/f61WyzibtRGzWBZvKrd1bcvJJh84UF9f36NHDwD4/vvv2WezNmIWixDy1VdfmXkMhk2zuJy8ePFivEytjcjFIpYe3GO7zD/Uqbi42MnJCS+sbSN+sc6fPy+TyeRyeWlpqeg/nJdTp04J51OuXbtmcoeoqCgASElJYRzMaolfLELIq6++CgCTJk2i8cPZa1tOftiDM/Py8oTV6Lq6OsbZrBaVYrWteBw+fJjGz2ds27ZtZpaTdTqdUqkEgI8//ph9NqtFpViEkPfeew8AAgMDbf2W37bl5H379pncITs7GwAGDhxo6/9ScdEqlk6nE57lumnTJkqHYCM9PR0AwsPDTS4n19TUCA88xkda/AOtYhFCDh06BACenp63b9+mdxSq2paT//zzT5M7JCYmAsCUKVMYB7N+FItFCHnhhRcAYOHChVSPQk90dDQAJCUlmdx67tw5YTW6vLyccTDrR7dYJSUlwr0GhYWFVA9Eg/nlZKPROGbMGADIyMhgn8360S0WISQ1NdUWH7bZ2to6cOBAAMjJyTG5w+7duwHAx8ensbGRcTabQL1Ybfdz5ubm0j6WuA4cOBAVFaXT6R7c1NTU1KdPHwDYsWMH+2A2gXqxCCFbtmwBgD59+ty/f5/B4RhYtWoVAISFheHj7x+GRbH0en1oaCgArFu3jsHhaLtx44abm5tEIsEXdpjBoliEkKNHjwKAm5vbjRs32ByRnoSEBACYNWsW7yBWjVGxCCHx8fEAMHfuXGZHpOH3338XVqOvX7/OO4tVY1esyspKhUIhkUhOnjzJ7KDiMhgMw4YNA4CsrCzeWawdu2IRQlauXCm8lshGr13+7LPPAMDPz89u/hdCD9Ni3bt3z8XFBQCSk5NZHlcUjY2NTzzxBADs37+fdxYbwPot9gsWLNi6datUKp0wYYJcLlcqlb1792YZoMMOHTp0/Pjx0aNHnzx50rZe3swF62IZjUYvLy+1Ws3yoGLp2rXrzp074+LieAexAayLBQA1NTWpqalVVVUA4O/v36tXL8YBOuaXX34pKiqaPHmycNUGMo9DsWzU7du3AwICGhsbDx8+LFy1gcyQ8g5gM7y9vd9++20AWLZsWWtrK+841g6L1Q5LlixRqVSlpaXC65yRGfhR2D75+fnR0dGenp5XrlwRrtpAJuHEap/JkydPnDjx7t27mZmZvLNYNZxY7VZSUhIaGmo0Gs+dOydctYEehBOr3YKCghYtWmQwGJYuXco7i/XCidURDQ0NAQEBdXV1ubm5L730Eu841ggnVkd4eXm98847APDGG29otVrecawRFquDkpOTQ0JCqqqqPvjgA95ZrBF+FHbcsWPHIiIi3N3dy8rKbGVhihmcWB03fvz4+Ph4jUbz1ltv8c5idXBidUpVVdXAgQN1Ot0ff/wxcuRI3nGsCE6sTunXr9+yZcsIIYsXLzYajbzjWBGcWJ2l0WhUKtWtW7e+/PLLOXPm8I5jLXBidZa7u/v69esBYMWKFTZ6ASMNWCwRzJ07d+TIkTU1NTk5ObyzWAv8KBTHmTNnwsPDnZ2dL126NGDAAN5x+MOJJY5Ro0bNnj1bp9NlZGTwzmIVcGKJprq6OjAwUKPR/Pzzz5GRkbzjcIYTSzS+vr7Ci4yXLl2q1+t5x+EMiyWm9PT0fv36FRcXCy+EdmT4USiy3NzchISE7t27l5eXC+9sckw4sUQ2derUyMjI+vr6devW8c7CE04s8RUXFw8ePBgACgsLg4ODecfhAyeW+IKDg5OSkvR6fVpaGu8s3ODEoqK+vl6pVNbX1+fn50+aNIl3HA5wYlHRvXt34bbptLQ0nU7HOw4HWCxaUlJSgoODKyoqHPO2afwopOjIkSORkZEeHh5lZWXCQ9scB04siiZMmPDiiy+q1WrhLeUOBScWXRUVFU899VRra+vZs2eFB+M6CJxYdA0YMEC4ajktLc2h/oZxYlGnVqtVKlVNTc3XX38tvHzAEeDEos7DwyMrKwsAli9f3tTUxDsOI1gsFl555ZWhQ4fevHnz/fff552FEfwoZOTUqVNjx45VKBSlpaXCK+nsG04sRkaPHj116tTm5mbh9Rx2DycWOzdv3gwMDGxubj5x4oTw2l87hhOLHT8/P+G26dTUVLu/bRonFlNNTU1BQUE3btz44osvEhMTecehCIvF2u7du+fMmePj41NeXu7h4cE7Di34UcjarFmzxowZU1tbm52dzTsLRTixOCgoKBg+fLiTk9OlS5eUSiXvOFTgxOIgLCxszpw5LS0twn2IdgknFh+1tbUBAQFqtfqnn36KioriHUd8OLH48PHxEZ7yYK+3TWOxuFm+fLlSqbx8+bLwqmk7gx+FPOXl5cXHx3t5eV25csXObpvGicVTXFxcVFRUQ0ODcF2NPcGJxVlRUVFYWJifn19xcbGrqyvvOKLBYvGXn58fERHh5ubGO4iYsFiICvyOhajAYiEqsFiICiwWogKLhajAYiEqsFiICiwWogKLhajAYiEqsFiICiwWogKLhajAYiEqsFiIiv8FX1KgDByZY+MAAACfelRYdHJka2l0UEtMIHJka2l0IDIwMjIuMDkuNQAAeJx7v2/tPQYg4GWAACYgZgdiNiBuYDRlUADSjGwMGkCKmYWNIQHEZUblMzEhxCE0NwMjCwsjE5DFxcTExMDCzMLAwsrAzMbCIgKyQzwOpApqIci2BcuudL61h3Ad7J+18kHZAg4I9gPVu+x2+yHsA/sRbIEDCDUO9hlLmQ6AWGIAeegaXz8eicgAAADielRYdE1PTCByZGtpdCAyMDIyLjA5LjUAAHicjZHdDoIwDIXv9xR9AZfup5tcAiOGGEai6Dt47/vHDoRBQsSWJdvhK10PAlLcwvX1hiV0EAIAfzxFUcDTIKLoIG2gai5thHooq1mp+0cc7uDBcQXnliyHvpsVBS2cUOIYoOSZyLsCFmUp1VCz6mlSJZHzRu1whjkt9SFnx+99Vb6Bt9qg3wGJwZOSdEy6RP7T269n4Qq0yli3AzYxbNya/Kv6GLJ/KXV2iQ9gshma0+aZFS/KkyleLl8/vfXr3utO6Tz/Y96LD/gVa8hHjoYpAAAAa3pUWHRTTUlMRVMgcmRraXQgMjAyMi4wOS41AAB4nF2MsQqAMAwFf8WxhTRN0j5TKE6Z/Kd+vA6C6HgcdxE1UuQjUo18bisVYwMJA7s3pVmUQUXYuzVxmvIB9lsaS9eGB9/0dxJSHoA75XUBqCIYBJLnOSEAAAAASUVORK5CYII=\" alt=\"Mol\"/></div></td>\n",
              "    </tr>\n",
              "  </tbody>\n",
              "</table>\n",
              "<p>98 rows × 3 columns</p>\n",
              "</div>\n",
              "      <button class=\"colab-df-convert\" onclick=\"convertToInteractive('df-57be0618-b695-4062-badb-14214b4fdbc2')\"\n",
              "              title=\"Convert this dataframe to an interactive table.\"\n",
              "              style=\"display:none;\">\n",
              "        \n",
              "  <svg xmlns=\"http://www.w3.org/2000/svg\" height=\"24px\"viewBox=\"0 0 24 24\"\n",
              "       width=\"24px\">\n",
              "    <path d=\"M0 0h24v24H0V0z\" fill=\"none\"/>\n",
              "    <path d=\"M18.56 5.44l.94 2.06.94-2.06 2.06-.94-2.06-.94-.94-2.06-.94 2.06-2.06.94zm-11 1L8.5 8.5l.94-2.06 2.06-.94-2.06-.94L8.5 2.5l-.94 2.06-2.06.94zm10 10l.94 2.06.94-2.06 2.06-.94-2.06-.94-.94-2.06-.94 2.06-2.06.94z\"/><path d=\"M17.41 7.96l-1.37-1.37c-.4-.4-.92-.59-1.43-.59-.52 0-1.04.2-1.43.59L10.3 9.45l-7.72 7.72c-.78.78-.78 2.05 0 2.83L4 21.41c.39.39.9.59 1.41.59.51 0 1.02-.2 1.41-.59l7.78-7.78 2.81-2.81c.8-.78.8-2.07 0-2.86zM5.41 20L4 18.59l7.72-7.72 1.47 1.35L5.41 20z\"/>\n",
              "  </svg>\n",
              "      </button>\n",
              "      \n",
              "  <style>\n",
              "    .colab-df-container {\n",
              "      display:flex;\n",
              "      flex-wrap:wrap;\n",
              "      gap: 12px;\n",
              "    }\n",
              "\n",
              "    .colab-df-convert {\n",
              "      background-color: #E8F0FE;\n",
              "      border: none;\n",
              "      border-radius: 50%;\n",
              "      cursor: pointer;\n",
              "      display: none;\n",
              "      fill: #1967D2;\n",
              "      height: 32px;\n",
              "      padding: 0 0 0 0;\n",
              "      width: 32px;\n",
              "    }\n",
              "\n",
              "    .colab-df-convert:hover {\n",
              "      background-color: #E2EBFA;\n",
              "      box-shadow: 0px 1px 2px rgba(60, 64, 67, 0.3), 0px 1px 3px 1px rgba(60, 64, 67, 0.15);\n",
              "      fill: #174EA6;\n",
              "    }\n",
              "\n",
              "    [theme=dark] .colab-df-convert {\n",
              "      background-color: #3B4455;\n",
              "      fill: #D2E3FC;\n",
              "    }\n",
              "\n",
              "    [theme=dark] .colab-df-convert:hover {\n",
              "      background-color: #434B5C;\n",
              "      box-shadow: 0px 1px 3px 1px rgba(0, 0, 0, 0.15);\n",
              "      filter: drop-shadow(0px 1px 2px rgba(0, 0, 0, 0.3));\n",
              "      fill: #FFFFFF;\n",
              "    }\n",
              "  </style>\n",
              "\n",
              "      <script>\n",
              "        const buttonEl =\n",
              "          document.querySelector('#df-57be0618-b695-4062-badb-14214b4fdbc2 button.colab-df-convert');\n",
              "        buttonEl.style.display =\n",
              "          google.colab.kernel.accessAllowed ? 'block' : 'none';\n",
              "\n",
              "        async function convertToInteractive(key) {\n",
              "          const element = document.querySelector('#df-57be0618-b695-4062-badb-14214b4fdbc2');\n",
              "          const dataTable =\n",
              "            await google.colab.kernel.invokeFunction('convertToInteractive',\n",
              "                                                     [key], {});\n",
              "          if (!dataTable) return;\n",
              "\n",
              "          const docLinkHtml = 'Like what you see? Visit the ' +\n",
              "            '<a target=\"_blank\" href=https://colab.research.google.com/notebooks/data_table.ipynb>data table notebook</a>'\n",
              "            + ' to learn more about interactive tables.';\n",
              "          element.innerHTML = '';\n",
              "          dataTable['output_type'] = 'display_data';\n",
              "          await google.colab.output.renderOutput(dataTable, element);\n",
              "          const docLink = document.createElement('div');\n",
              "          docLink.innerHTML = docLinkHtml;\n",
              "          element.appendChild(docLink);\n",
              "        }\n",
              "      </script>\n",
              "    </div>\n",
              "  </div>\n",
              "  "
            ],
            "text/plain": [
              "   SMILES sequence  Class                                          Molecule\n",
              "0              C=C      0  <rdkit.Chem.rdchem.Mol object at 0x7f890286d150>\n",
              "1             C=CC      0  <rdkit.Chem.rdchem.Mol object at 0x7f890286d380>\n",
              "2            C=CCC      0  <rdkit.Chem.rdchem.Mol object at 0x7f88fe1ca650>\n",
              "3          C/C=C/C      0  <rdkit.Chem.rdchem.Mol object at 0x7f88fe1ca6c0>\n",
              "4           C=CCCC      0  <rdkit.Chem.rdchem.Mol object at 0x7f88fe1cab90>\n",
              "..             ...    ...                                               ...\n",
              "93      I/C(C)=C/C      5  <rdkit.Chem.rdchem.Mol object at 0x7f88fdc5e260>\n",
              "94   I/C(C)=C(C)/C      5  <rdkit.Chem.rdchem.Mol object at 0x7f88fdc5e2d0>\n",
              "95  I/C(C)=C(C)/CC      5  <rdkit.Chem.rdchem.Mol object at 0x7f88fdc5e340>\n",
              "96  I/C(CC)=C(C)/C      5  <rdkit.Chem.rdchem.Mol object at 0x7f88fdc5e3b0>\n",
              "97  I/C(C)=C(CC)/C      5  <rdkit.Chem.rdchem.Mol object at 0x7f88fdc5e420>\n",
              "\n",
              "[98 rows x 3 columns]"
            ]
          },
          "execution_count": 96,
          "metadata": {},
          "output_type": "execute_result"
        }
      ],
      "source": [
        "PandasTools.AddMoleculeColumnToFrame(test_table, 'SMILES sequence', 'Molecule')\n",
        "test_table"
      ]
    },
    {
      "cell_type": "code",
      "execution_count": 6,
      "metadata": {
        "colab": {
          "base_uri": "https://localhost:8080/"
        },
        "id": "TannP6Y8MHQW",
        "outputId": "d3c1148f-2499-468d-ffed-c7955984ed72"
      },
      "outputs": [
        {
          "name": "stdout",
          "output_type": "stream",
          "text": [
            "Looking in indexes: https://pypi.org/simple, https://us-python.pkg.dev/colab-wheels/public/simple/\n",
            "Requirement already satisfied: scikit-learn in /usr/local/lib/python3.10/dist-packages (1.2.2)\n",
            "Requirement already satisfied: joblib>=1.1.1 in /usr/local/lib/python3.10/dist-packages (from scikit-learn) (1.2.0)\n",
            "Requirement already satisfied: scipy>=1.3.2 in /usr/local/lib/python3.10/dist-packages (from scikit-learn) (1.10.1)\n",
            "Requirement already satisfied: threadpoolctl>=2.0.0 in /usr/local/lib/python3.10/dist-packages (from scikit-learn) (3.1.0)\n",
            "Requirement already satisfied: numpy>=1.17.3 in /usr/local/lib/python3.10/dist-packages (from scikit-learn) (1.22.4)\n"
          ]
        }
      ],
      "source": [
        "%pip install scikit-learn\n",
        "import sklearn"
      ]
    },
    {
      "cell_type": "markdown",
      "metadata": {
        "id": "kH652yp5IXwO"
      },
      "source": [
        "Should do extended fingerprint connectivity because just ones and zeros for the entries. Then need to hash into a single number. Simplest way is value in the entry times 2 to the power of the entry summed over the array. Maybe looks for a converter. This should allow for classification algorithm to run. Can also try ASCII for smiles, see if they look similar. "
      ]
    },
    {
      "cell_type": "code",
      "execution_count": 7,
      "metadata": {
        "id": "M9rPFaWby1G2"
      },
      "outputs": [],
      "source": [
        "import math"
      ]
    },
    {
      "cell_type": "code",
      "execution_count": 24,
      "metadata": {
        "colab": {
          "base_uri": "https://localhost:8080/"
        },
        "id": "AFOkgshPwfxn",
        "outputId": "5de399f0-85d2-421e-f608-17af6d1cdc11"
      },
      "outputs": [
        {
          "data": {
            "text/plain": [
              "3.022314549036573e+23"
            ]
          },
          "execution_count": 24,
          "metadata": {},
          "output_type": "execute_result"
        }
      ],
      "source": [
        "bi = {}\n",
        "fp = AllChem.GetMorganFingerprintAsBitVect(test_table.loc[0,'Molecule'], 2, nBits=128, bitInfo=bi)\n",
        "fp_arr = np.zeros((1,))\n",
        "DataStructs.ConvertToNumpyArray(fp, fp_arr)\n",
        "hash = 0\n",
        "fp_list = fp_arr.tolist()\n",
        "for entry in fp_list:\n",
        "  hash += entry * math.pow(2, fp_list.index(entry))\n",
        "hash"
      ]
    },
    {
      "cell_type": "code",
      "execution_count": 97,
      "metadata": {
        "colab": {
          "base_uri": "https://localhost:8080/",
          "height": 1000
        },
        "id": "T3oHtT1yMife",
        "outputId": "6ca6b18a-2822-4e47-8fce-de14d33b1396"
      },
      "outputs": [
        {
          "data": {
            "text/html": [
              "\n",
              "  <div id=\"df-7106b40c-2393-4877-a81e-0c532ea67951\">\n",
              "    <div class=\"colab-df-container\">\n",
              "      <div>\n",
              "<style scoped>\n",
              "    .dataframe tbody tr th:only-of-type {\n",
              "        vertical-align: middle;\n",
              "    }\n",
              "\n",
              "    .dataframe tbody tr th {\n",
              "        vertical-align: top;\n",
              "    }\n",
              "\n",
              "    .dataframe thead th {\n",
              "        text-align: right;\n",
              "    }\n",
              "</style>\n",
              "<table border=\"1\" class=\"dataframe\">\n",
              "  <thead>\n",
              "    <tr style=\"text-align: right;\">\n",
              "      <th></th>\n",
              "      <th>SMILES sequence</th>\n",
              "      <th>Class</th>\n",
              "      <th>Molecule</th>\n",
              "      <th>fingerprint</th>\n",
              "    </tr>\n",
              "  </thead>\n",
              "  <tbody>\n",
              "    <tr>\n",
              "      <th>0</th>\n",
              "      <td>C=C</td>\n",
              "      <td>0</td>\n",
              "      <td style=\"text-align: center;\"><div style=\"width: 200px; height: 200px\" data-content=\"rdkit/molecule\"><img src=\"data:image/png;base64,iVBORw0KGgoAAAANSUhEUgAAAMgAAADICAIAAAAiOjnJAAAABmJLR0QA/wD/AP+gvaeTAAACdElEQVR4nO3csXHCQBBAUeNxokiZKhNdUA50QXNEhOcKpIDxlwf7vXSTDf5oLlmdxhgf8NM+f3sB/iZhkRAWCWGREBYJYZEQFglhkRAWCWGREBYJYZEQFglhkRAWCWGREBYJYZEQFglhkRAWCWGREBYJYZEQFglhkRAWCWGREBYJYZEQFglhkRAWCWGREBYJYZEQFglhkRAWCWGREBYJYZEQFglhkRAWCWGREBYJYZEQFglhkRAWCWGREBYJYZEQFglhkRAWCWGREBYJYZEQFglhkRAWCWGREBYJYZEQFglhkRAWCWGREBYJYZEQFglhkRAWCWGREBYJYZEQFglhkRAWCWGREBYJYZH42pldLpfH43HYKryXeZ6v1+vmeGxbluXAPXkzy7LsxLP3xbrdbs/n87BFeS/TNO1MT2OMw1bh//B4JyEsEsIiISwSwiIhLBLCIiEsEsIiISwSwiIhLBLCIiEsEsIiISwSwiIhLBLCIiEsEsIiISwSwiKxd7B6v98drLJlmqZ1XTfHTux5zesn9ufz2U9B2DLP887UiT0Jj3cSwiIhLBLCIiEsEsIiISwSwiIhLBLCIiEsEsIiISwSwiIhLBLCIiEsEsIiISwSwiIhLBLCIiEsEsIiISwSwiIhLBLCIiEsEsIiISwSwiIhLBLCIiEsEsIiISwSwiIhLBLCIiEsEsIiISwSwiIhLBLCIiEsEsIiISwSwiIhLBLCIiEsEsIiISwSwiIhLBLCIiEsEsIiISwSwiIhLBLCIiEsEsIiISwSwiIhLBLCIiEsEsIiISwSwiIhLBLCIiEsEsIiISwSwiIhLBLCIiEsEsIi8Q3gs4vjPFEe6gAAAFl6VFh0cmRraXRQS0wgcmRraXQgMjAyMi4wOS41AAB4nHu/b+09BiDgZYAAJihmBOIGRjaGDCDNzMQEZ3AzMHIwiYBUiitBlcH0OewHalGBcB3sgewlIJYYANg8CHiIMVvYAAAAmHpUWHRNT0wgcmRraXQgMjAyMi4wOS41AAB4nONSAIEgF+/MEgU4MHLh4lJQMMCDLC0tFcKMDQwMuHwVQAwFJ1d3Tz8F5xBHJ5iIs3+oX0iwgpGCIVAHEKKqdAzx94WJGCo4K+ga6JmbAs0DKtQzMEBjwBQaARXC1eniUejq54JiA8ROJ38/F4SdIIcZIWtAlgbxYZ4BsrkA5RU5I/S817oAAAAyelRYdFNNSUxFUyByZGtpdCAyMDIyLjA5LjUAAHicc7Z1VqjR0DXQMzfVMdCxhtKaNQBBuQU5aPyKdQAAAABJRU5ErkJggg==\" alt=\"Mol\"/></div></td>\n",
              "      <td>1.791796e+103</td>\n",
              "    </tr>\n",
              "    <tr>\n",
              "      <th>1</th>\n",
              "      <td>C=CC</td>\n",
              "      <td>0</td>\n",
              "      <td style=\"text-align: center;\"><div style=\"width: 200px; height: 200px\" data-content=\"rdkit/molecule\"><img src=\"data:image/png;base64,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\" alt=\"Mol\"/></div></td>\n",
              "      <td>5.153961e+10</td>\n",
              "    </tr>\n",
              "    <tr>\n",
              "      <th>2</th>\n",
              "      <td>C=CCC</td>\n",
              "      <td>0</td>\n",
              "      <td style=\"text-align: center;\"><div style=\"width: 200px; height: 200px\" data-content=\"rdkit/molecule\"><img src=\"data:image/png;base64,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\" alt=\"Mol\"/></div></td>\n",
              "      <td>6.871948e+10</td>\n",
              "    </tr>\n",
              "    <tr>\n",
              "      <th>3</th>\n",
              "      <td>C/C=C/C</td>\n",
              "      <td>0</td>\n",
              "      <td style=\"text-align: center;\"><div style=\"width: 200px; height: 200px\" data-content=\"rdkit/molecule\"><img src=\"data:image/png;base64,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\" alt=\"Mol\"/></div></td>\n",
              "      <td>4.294967e+10</td>\n",
              "    </tr>\n",
              "    <tr>\n",
              "      <th>4</th>\n",
              "      <td>C=CCCC</td>\n",
              "      <td>0</td>\n",
              "      <td style=\"text-align: center;\"><div style=\"width: 200px; height: 200px\" data-content=\"rdkit/molecule\"><img src=\"data:image/png;base64,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\" alt=\"Mol\"/></div></td>\n",
              "      <td>7.680000e+02</td>\n",
              "    </tr>\n",
              "    <tr>\n",
              "      <th>...</th>\n",
              "      <td>...</td>\n",
              "      <td>...</td>\n",
              "      <td>...</td>\n",
              "      <td>...</td>\n",
              "    </tr>\n",
              "    <tr>\n",
              "      <th>93</th>\n",
              "      <td>I/C(C)=C/C</td>\n",
              "      <td>5</td>\n",
              "      <td style=\"text-align: center;\"><div style=\"width: 200px; height: 200px\" data-content=\"rdkit/molecule\"><img src=\"data:image/png;base64,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\" alt=\"Mol\"/></div></td>\n",
              "      <td>7.730941e+10</td>\n",
              "    </tr>\n",
              "    <tr>\n",
              "      <th>94</th>\n",
              "      <td>I/C(C)=C(C)/C</td>\n",
              "      <td>5</td>\n",
              "      <td style=\"text-align: center;\"><div style=\"width: 200px; height: 200px\" data-content=\"rdkit/molecule\"><img src=\"data:image/png;base64,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\" alt=\"Mol\"/></div></td>\n",
              "      <td>6.871948e+10</td>\n",
              "    </tr>\n",
              "    <tr>\n",
              "      <th>95</th>\n",
              "      <td>I/C(C)=C(C)/CC</td>\n",
              "      <td>5</td>\n",
              "      <td style=\"text-align: center;\"><div style=\"width: 200px; height: 200px\" data-content=\"rdkit/molecule\"><img src=\"data:image/png;base64,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\" alt=\"Mol\"/></div></td>\n",
              "      <td>1.116691e+11</td>\n",
              "    </tr>\n",
              "    <tr>\n",
              "      <th>96</th>\n",
              "      <td>I/C(CC)=C(C)/C</td>\n",
              "      <td>5</td>\n",
              "      <td style=\"text-align: center;\"><div style=\"width: 200px; height: 200px\" data-content=\"rdkit/molecule\"><img src=\"data:image/png;base64,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\" alt=\"Mol\"/></div></td>\n",
              "      <td>1.116691e+11</td>\n",
              "    </tr>\n",
              "    <tr>\n",
              "      <th>97</th>\n",
              "      <td>I/C(C)=C(CC)/C</td>\n",
              "      <td>5</td>\n",
              "      <td style=\"text-align: center;\"><div style=\"width: 200px; height: 200px\" data-content=\"rdkit/molecule\"><img src=\"data:image/png;base64,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\" alt=\"Mol\"/></div></td>\n",
              "      <td>1.116691e+11</td>\n",
              "    </tr>\n",
              "  </tbody>\n",
              "</table>\n",
              "<p>98 rows × 4 columns</p>\n",
              "</div>\n",
              "      <button class=\"colab-df-convert\" onclick=\"convertToInteractive('df-7106b40c-2393-4877-a81e-0c532ea67951')\"\n",
              "              title=\"Convert this dataframe to an interactive table.\"\n",
              "              style=\"display:none;\">\n",
              "        \n",
              "  <svg xmlns=\"http://www.w3.org/2000/svg\" height=\"24px\"viewBox=\"0 0 24 24\"\n",
              "       width=\"24px\">\n",
              "    <path d=\"M0 0h24v24H0V0z\" fill=\"none\"/>\n",
              "    <path d=\"M18.56 5.44l.94 2.06.94-2.06 2.06-.94-2.06-.94-.94-2.06-.94 2.06-2.06.94zm-11 1L8.5 8.5l.94-2.06 2.06-.94-2.06-.94L8.5 2.5l-.94 2.06-2.06.94zm10 10l.94 2.06.94-2.06 2.06-.94-2.06-.94-.94-2.06-.94 2.06-2.06.94z\"/><path d=\"M17.41 7.96l-1.37-1.37c-.4-.4-.92-.59-1.43-.59-.52 0-1.04.2-1.43.59L10.3 9.45l-7.72 7.72c-.78.78-.78 2.05 0 2.83L4 21.41c.39.39.9.59 1.41.59.51 0 1.02-.2 1.41-.59l7.78-7.78 2.81-2.81c.8-.78.8-2.07 0-2.86zM5.41 20L4 18.59l7.72-7.72 1.47 1.35L5.41 20z\"/>\n",
              "  </svg>\n",
              "      </button>\n",
              "      \n",
              "  <style>\n",
              "    .colab-df-container {\n",
              "      display:flex;\n",
              "      flex-wrap:wrap;\n",
              "      gap: 12px;\n",
              "    }\n",
              "\n",
              "    .colab-df-convert {\n",
              "      background-color: #E8F0FE;\n",
              "      border: none;\n",
              "      border-radius: 50%;\n",
              "      cursor: pointer;\n",
              "      display: none;\n",
              "      fill: #1967D2;\n",
              "      height: 32px;\n",
              "      padding: 0 0 0 0;\n",
              "      width: 32px;\n",
              "    }\n",
              "\n",
              "    .colab-df-convert:hover {\n",
              "      background-color: #E2EBFA;\n",
              "      box-shadow: 0px 1px 2px rgba(60, 64, 67, 0.3), 0px 1px 3px 1px rgba(60, 64, 67, 0.15);\n",
              "      fill: #174EA6;\n",
              "    }\n",
              "\n",
              "    [theme=dark] .colab-df-convert {\n",
              "      background-color: #3B4455;\n",
              "      fill: #D2E3FC;\n",
              "    }\n",
              "\n",
              "    [theme=dark] .colab-df-convert:hover {\n",
              "      background-color: #434B5C;\n",
              "      box-shadow: 0px 1px 3px 1px rgba(0, 0, 0, 0.15);\n",
              "      filter: drop-shadow(0px 1px 2px rgba(0, 0, 0, 0.3));\n",
              "      fill: #FFFFFF;\n",
              "    }\n",
              "  </style>\n",
              "\n",
              "      <script>\n",
              "        const buttonEl =\n",
              "          document.querySelector('#df-7106b40c-2393-4877-a81e-0c532ea67951 button.colab-df-convert');\n",
              "        buttonEl.style.display =\n",
              "          google.colab.kernel.accessAllowed ? 'block' : 'none';\n",
              "\n",
              "        async function convertToInteractive(key) {\n",
              "          const element = document.querySelector('#df-7106b40c-2393-4877-a81e-0c532ea67951');\n",
              "          const dataTable =\n",
              "            await google.colab.kernel.invokeFunction('convertToInteractive',\n",
              "                                                     [key], {});\n",
              "          if (!dataTable) return;\n",
              "\n",
              "          const docLinkHtml = 'Like what you see? Visit the ' +\n",
              "            '<a target=\"_blank\" href=https://colab.research.google.com/notebooks/data_table.ipynb>data table notebook</a>'\n",
              "            + ' to learn more about interactive tables.';\n",
              "          element.innerHTML = '';\n",
              "          dataTable['output_type'] = 'display_data';\n",
              "          await google.colab.output.renderOutput(dataTable, element);\n",
              "          const docLink = document.createElement('div');\n",
              "          docLink.innerHTML = docLinkHtml;\n",
              "          element.appendChild(docLink);\n",
              "        }\n",
              "      </script>\n",
              "    </div>\n",
              "  </div>\n",
              "  "
            ],
            "text/plain": [
              "   SMILES sequence  Class                                          Molecule  \\\n",
              "0              C=C      0  <rdkit.Chem.rdchem.Mol object at 0x7f890286d150>   \n",
              "1             C=CC      0  <rdkit.Chem.rdchem.Mol object at 0x7f890286d380>   \n",
              "2            C=CCC      0  <rdkit.Chem.rdchem.Mol object at 0x7f88fe1ca650>   \n",
              "3          C/C=C/C      0  <rdkit.Chem.rdchem.Mol object at 0x7f88fe1ca6c0>   \n",
              "4           C=CCCC      0  <rdkit.Chem.rdchem.Mol object at 0x7f88fe1cab90>   \n",
              "..             ...    ...                                               ...   \n",
              "93      I/C(C)=C/C      5  <rdkit.Chem.rdchem.Mol object at 0x7f88fdc5e260>   \n",
              "94   I/C(C)=C(C)/C      5  <rdkit.Chem.rdchem.Mol object at 0x7f88fdc5e2d0>   \n",
              "95  I/C(C)=C(C)/CC      5  <rdkit.Chem.rdchem.Mol object at 0x7f88fdc5e340>   \n",
              "96  I/C(CC)=C(C)/C      5  <rdkit.Chem.rdchem.Mol object at 0x7f88fdc5e3b0>   \n",
              "97  I/C(C)=C(CC)/C      5  <rdkit.Chem.rdchem.Mol object at 0x7f88fdc5e420>   \n",
              "\n",
              "      fingerprint  \n",
              "0   1.791796e+103  \n",
              "1    5.153961e+10  \n",
              "2    6.871948e+10  \n",
              "3    4.294967e+10  \n",
              "4    7.680000e+02  \n",
              "..            ...  \n",
              "93   7.730941e+10  \n",
              "94   6.871948e+10  \n",
              "95   1.116691e+11  \n",
              "96   1.116691e+11  \n",
              "97   1.116691e+11  \n",
              "\n",
              "[98 rows x 4 columns]"
            ]
          },
          "execution_count": 97,
          "metadata": {},
          "output_type": "execute_result"
        }
      ],
      "source": [
        "hash_list = []\n",
        "for mol in test_table['Molecule']:\n",
        "  bi = {}\n",
        "  fingerprint = AllChem.GetMorganFingerprintAsBitVect(mol, 2, nBits=512, bitInfo=bi)\n",
        "  fp_arr = np.zeros((1,))\n",
        "  DataStructs.ConvertToNumpyArray(fingerprint, fp_arr)\n",
        "  fp_list = fp_arr.tolist()\n",
        "  hash = 0\n",
        "  for entry in fp_list:\n",
        "    hash += entry * math.pow(2, fp_list.index(entry))\n",
        "  hash_list.append(hash)\n",
        "test_table['fingerprint'] = hash_list\n",
        "test_table"
      ]
    },
    {
      "cell_type": "code",
      "execution_count": 98,
      "metadata": {
        "id": "bOrK13EQRJCc"
      },
      "outputs": [],
      "source": [
        "test_table = test_table.drop(index = 0)\n",
        "feature = test_table[['fingerprint']]\n",
        "target = test_table['Class']"
      ]
    },
    {
      "cell_type": "code",
      "execution_count": 29,
      "metadata": {
        "colab": {
          "base_uri": "https://localhost:8080/",
          "height": 566
        },
        "id": "DthLIr0wMuwS",
        "outputId": "ba63082d-0963-45fe-b43b-bfa106a00c7c"
      },
      "outputs": [
        {
          "name": "stdout",
          "output_type": "stream",
          "text": [
            "0.4666666666666667\n"
          ]
        },
        {
          "data": {
            "text/plain": [
              "Text(50.72222222222221, 0.5, 'True Class')"
            ]
          },
          "execution_count": 29,
          "metadata": {},
          "output_type": "execute_result"
        },
        {
          "data": {
            "image/png": "[encoded data removed]",
            "text/plain": [
              "<Figure size 640x480 with 2 Axes>"
            ]
          },
          "metadata": {},
          "output_type": "display_data"
        }
      ],
      "source": [
        "from sklearn.ensemble import RandomForestClassifier\n",
        "from sklearn.model_selection import train_test_split\n",
        "from sklearn.metrics import confusion_matrix\n",
        "import seaborn as sns\n",
        "from sklearn.preprocessing import MinMaxScaler\n",
        "import matplotlib.pyplot as plt\n",
        "\n",
        "model = RandomForestClassifier(n_estimators = 200, max_depth = 7)\n",
        "x_train, x_test, y_train, y_test = train_test_split(feature, target, test_size = .30)\n",
        "\n",
        "model.fit(x_train, y_train)\n",
        "print(model.score(x_test, y_test))\n",
        "\n",
        "prediction = model.predict(x_test)\n",
        "conf_mat = confusion_matrix(y_test, prediction)\n",
        "labels = ['Aliphatic', 'Branching', 'Benzylic', 'Allylic', 'Alcohol', 'Halogenated']\n",
        "sns.heatmap(conf_mat, annot = True, cmap = 'Blues', xticklabels = labels, yticklabels = labels)\n",
        "plt.xlabel('Predicted Class')\n",
        "plt.ylabel('True Class')"
      ]
    },
    {
      "cell_type": "code",
      "execution_count": 30,
      "metadata": {
        "colab": {
          "base_uri": "https://localhost:8080/"
        },
        "id": "6kktCPirBhq-",
        "outputId": "51501074-97c0-4a73-8eb3-1b6e3f946c54"
      },
      "outputs": [
        {
          "data": {
            "text/plain": [
              "0.36"
            ]
          },
          "execution_count": 30,
          "metadata": {},
          "output_type": "execute_result"
        }
      ],
      "source": [
        "from sklearn.model_selection import cross_val_score, ShuffleSplit\n",
        "\n",
        "splitter = ShuffleSplit(n_splits = 5)\n",
        "scores = cross_val_score(model, feature, target, cv = splitter)\n",
        "scores.mean()"
      ]
    },
    {
      "cell_type": "code",
      "execution_count": 31,
      "metadata": {
        "colab": {
          "base_uri": "https://localhost:8080/",
          "height": 471
        },
        "id": "7Ngoc10UCFTn",
        "outputId": "ed2ede6a-96e8-4710-c47c-aa75537b9e1e"
      },
      "outputs": [
        {
          "name": "stdout",
          "output_type": "stream",
          "text": [
            "0.3333333333333333\n"
          ]
        },
        {
          "data": {
            "text/plain": [
              "<Axes: >"
            ]
          },
          "execution_count": 31,
          "metadata": {},
          "output_type": "execute_result"
        },
        {
          "data": {
            "image/png": "[encoded data removed]",
            "text/plain": [
              "<Figure size 640x480 with 2 Axes>"
            ]
          },
          "metadata": {},
          "output_type": "display_data"
        }
      ],
      "source": [
        "from sklearn.naive_bayes import GaussianNB\n",
        "\n",
        "model2 = GaussianNB()\n",
        "model2.fit(x_train, y_train)\n",
        "prediction2 = model2.predict(x_test)\n",
        "print(model2.score(x_test, y_test))\n",
        "\n",
        "conf_mat2 = confusion_matrix(y_test, prediction2)\n",
        "sns.heatmap(conf_mat2, annot = True, cmap = 'Blues')"
      ]
    },
    {
      "cell_type": "code",
      "execution_count": null,
      "metadata": {
        "id": "yzFMWsLbBg_C"
      },
      "outputs": [],
      "source": [
        "dir(Descriptors)"
      ]
    },
    {
      "cell_type": "code",
      "execution_count": 137,
      "metadata": {
        "colab": {
          "base_uri": "https://localhost:8080/",
          "height": 424
        },
        "id": "cKy0K4BjBGVT",
        "outputId": "d79421ed-6be9-4b0a-b5f8-316725e0177c"
      },
      "outputs": [
        {
          "data": {
            "text/html": [
              "\n",
              "  <div id=\"df-493f7bcd-fbde-49af-986d-3e3f449ffe2e\">\n",
              "    <div class=\"colab-df-container\">\n",
              "      <div>\n",
              "<style scoped>\n",
              "    .dataframe tbody tr th:only-of-type {\n",
              "        vertical-align: middle;\n",
              "    }\n",
              "\n",
              "    .dataframe tbody tr th {\n",
              "        vertical-align: top;\n",
              "    }\n",
              "\n",
              "    .dataframe thead th {\n",
              "        text-align: right;\n",
              "    }\n",
              "</style>\n",
              "<table border=\"1\" class=\"dataframe\">\n",
              "  <thead>\n",
              "    <tr style=\"text-align: right;\">\n",
              "      <th></th>\n",
              "      <th>SMILES sequence</th>\n",
              "      <th>Class</th>\n",
              "      <th>Molecule</th>\n",
              "      <th>fingerprint</th>\n",
              "      <th>weight</th>\n",
              "      <th>count</th>\n",
              "      <th>charge</th>\n",
              "      <th>energy</th>\n",
              "      <th>bonds</th>\n",
              "      <th>kappa</th>\n",
              "      <th>chi</th>\n",
              "    </tr>\n",
              "  </thead>\n",
              "  <tbody>\n",
              "    <tr>\n",
              "      <th>1</th>\n",
              "      <td>C=CC</td>\n",
              "      <td>0</td>\n",
              "      <td>&lt;rdkit.Chem.rdchem.Mol object at 0x7f890286d380&gt;</td>\n",
              "      <td>5.153961e+10</td>\n",
              "      <td>42.081</td>\n",
              "      <td>18</td>\n",
              "      <td>0.047260</td>\n",
              "      <td>1.750000</td>\n",
              "      <td>0</td>\n",
              "      <td>2.74</td>\n",
              "      <td>2.707107</td>\n",
              "    </tr>\n",
              "    <tr>\n",
              "      <th>2</th>\n",
              "      <td>C=CCC</td>\n",
              "      <td>0</td>\n",
              "      <td>&lt;rdkit.Chem.rdchem.Mol object at 0x7f88fe1ca650&gt;</td>\n",
              "      <td>6.871948e+10</td>\n",
              "      <td>56.108</td>\n",
              "      <td>24</td>\n",
              "      <td>0.038200</td>\n",
              "      <td>1.083333</td>\n",
              "      <td>1</td>\n",
              "      <td>3.74</td>\n",
              "      <td>3.414214</td>\n",
              "    </tr>\n",
              "    <tr>\n",
              "      <th>3</th>\n",
              "      <td>C/C=C/C</td>\n",
              "      <td>0</td>\n",
              "      <td>&lt;rdkit.Chem.rdchem.Mol object at 0x7f88fe1ca6c0&gt;</td>\n",
              "      <td>4.294967e+10</td>\n",
              "      <td>56.108</td>\n",
              "      <td>24</td>\n",
              "      <td>0.047002</td>\n",
              "      <td>2.000000</td>\n",
              "      <td>0</td>\n",
              "      <td>3.74</td>\n",
              "      <td>3.414214</td>\n",
              "    </tr>\n",
              "    <tr>\n",
              "      <th>4</th>\n",
              "      <td>C=CCCC</td>\n",
              "      <td>0</td>\n",
              "      <td>&lt;rdkit.Chem.rdchem.Mol object at 0x7f88fe1cab90&gt;</td>\n",
              "      <td>7.680000e+02</td>\n",
              "      <td>70.135</td>\n",
              "      <td>30</td>\n",
              "      <td>0.035604</td>\n",
              "      <td>1.152778</td>\n",
              "      <td>2</td>\n",
              "      <td>4.74</td>\n",
              "      <td>4.121320</td>\n",
              "    </tr>\n",
              "    <tr>\n",
              "      <th>5</th>\n",
              "      <td>C/C=C\\C</td>\n",
              "      <td>0</td>\n",
              "      <td>&lt;rdkit.Chem.rdchem.Mol object at 0x7f88fe1ca420&gt;</td>\n",
              "      <td>4.294967e+10</td>\n",
              "      <td>56.108</td>\n",
              "      <td>24</td>\n",
              "      <td>0.047002</td>\n",
              "      <td>2.000000</td>\n",
              "      <td>0</td>\n",
              "      <td>3.74</td>\n",
              "      <td>3.414214</td>\n",
              "    </tr>\n",
              "    <tr>\n",
              "      <th>...</th>\n",
              "      <td>...</td>\n",
              "      <td>...</td>\n",
              "      <td>...</td>\n",
              "      <td>...</td>\n",
              "      <td>...</td>\n",
              "      <td>...</td>\n",
              "      <td>...</td>\n",
              "      <td>...</td>\n",
              "      <td>...</td>\n",
              "      <td>...</td>\n",
              "      <td>...</td>\n",
              "    </tr>\n",
              "    <tr>\n",
              "      <th>93</th>\n",
              "      <td>I/C(C)=C/C</td>\n",
              "      <td>5</td>\n",
              "      <td>&lt;rdkit.Chem.rdchem.Mol object at 0x7f88fdc5e260&gt;</td>\n",
              "      <td>7.730941e+10</td>\n",
              "      <td>182.004</td>\n",
              "      <td>30</td>\n",
              "      <td>0.016772</td>\n",
              "      <td>1.349630</td>\n",
              "      <td>0</td>\n",
              "      <td>5.47</td>\n",
              "      <td>4.284457</td>\n",
              "    </tr>\n",
              "    <tr>\n",
              "      <th>94</th>\n",
              "      <td>I/C(C)=C(C)/C</td>\n",
              "      <td>5</td>\n",
              "      <td>&lt;rdkit.Chem.rdchem.Mol object at 0x7f88fdc5e2d0&gt;</td>\n",
              "      <td>6.871948e+10</td>\n",
              "      <td>196.031</td>\n",
              "      <td>36</td>\n",
              "      <td>0.013863</td>\n",
              "      <td>1.395926</td>\n",
              "      <td>0</td>\n",
              "      <td>6.47</td>\n",
              "      <td>5.154701</td>\n",
              "    </tr>\n",
              "    <tr>\n",
              "      <th>95</th>\n",
              "      <td>I/C(C)=C(C)/CC</td>\n",
              "      <td>5</td>\n",
              "      <td>&lt;rdkit.Chem.rdchem.Mol object at 0x7f88fdc5e340&gt;</td>\n",
              "      <td>1.116691e+11</td>\n",
              "      <td>210.058</td>\n",
              "      <td>42</td>\n",
              "      <td>0.013594</td>\n",
              "      <td>1.189259</td>\n",
              "      <td>1</td>\n",
              "      <td>7.47</td>\n",
              "      <td>5.861807</td>\n",
              "    </tr>\n",
              "    <tr>\n",
              "      <th>96</th>\n",
              "      <td>I/C(CC)=C(C)/C</td>\n",
              "      <td>5</td>\n",
              "      <td>&lt;rdkit.Chem.rdchem.Mol object at 0x7f88fdc5e3b0&gt;</td>\n",
              "      <td>1.116691e+11</td>\n",
              "      <td>210.058</td>\n",
              "      <td>42</td>\n",
              "      <td>0.011032</td>\n",
              "      <td>1.183426</td>\n",
              "      <td>1</td>\n",
              "      <td>7.47</td>\n",
              "      <td>5.861807</td>\n",
              "    </tr>\n",
              "    <tr>\n",
              "      <th>97</th>\n",
              "      <td>I/C(C)=C(CC)/C</td>\n",
              "      <td>5</td>\n",
              "      <td>&lt;rdkit.Chem.rdchem.Mol object at 0x7f88fdc5e420&gt;</td>\n",
              "      <td>1.116691e+11</td>\n",
              "      <td>210.058</td>\n",
              "      <td>42</td>\n",
              "      <td>0.013594</td>\n",
              "      <td>1.189259</td>\n",
              "      <td>1</td>\n",
              "      <td>7.47</td>\n",
              "      <td>5.861807</td>\n",
              "    </tr>\n",
              "  </tbody>\n",
              "</table>\n",
              "<p>97 rows × 11 columns</p>\n",
              "</div>\n",
              "      <button class=\"colab-df-convert\" onclick=\"convertToInteractive('df-493f7bcd-fbde-49af-986d-3e3f449ffe2e')\"\n",
              "              title=\"Convert this dataframe to an interactive table.\"\n",
              "              style=\"display:none;\">\n",
              "        \n",
              "  <svg xmlns=\"http://www.w3.org/2000/svg\" height=\"24px\"viewBox=\"0 0 24 24\"\n",
              "       width=\"24px\">\n",
              "    <path d=\"M0 0h24v24H0V0z\" fill=\"none\"/>\n",
              "    <path d=\"M18.56 5.44l.94 2.06.94-2.06 2.06-.94-2.06-.94-.94-2.06-.94 2.06-2.06.94zm-11 1L8.5 8.5l.94-2.06 2.06-.94-2.06-.94L8.5 2.5l-.94 2.06-2.06.94zm10 10l.94 2.06.94-2.06 2.06-.94-2.06-.94-.94-2.06-.94 2.06-2.06.94z\"/><path d=\"M17.41 7.96l-1.37-1.37c-.4-.4-.92-.59-1.43-.59-.52 0-1.04.2-1.43.59L10.3 9.45l-7.72 7.72c-.78.78-.78 2.05 0 2.83L4 21.41c.39.39.9.59 1.41.59.51 0 1.02-.2 1.41-.59l7.78-7.78 2.81-2.81c.8-.78.8-2.07 0-2.86zM5.41 20L4 18.59l7.72-7.72 1.47 1.35L5.41 20z\"/>\n",
              "  </svg>\n",
              "      </button>\n",
              "      \n",
              "  <style>\n",
              "    .colab-df-container {\n",
              "      display:flex;\n",
              "      flex-wrap:wrap;\n",
              "      gap: 12px;\n",
              "    }\n",
              "\n",
              "    .colab-df-convert {\n",
              "      background-color: #E8F0FE;\n",
              "      border: none;\n",
              "      border-radius: 50%;\n",
              "      cursor: pointer;\n",
              "      display: none;\n",
              "      fill: #1967D2;\n",
              "      height: 32px;\n",
              "      padding: 0 0 0 0;\n",
              "      width: 32px;\n",
              "    }\n",
              "\n",
              "    .colab-df-convert:hover {\n",
              "      background-color: #E2EBFA;\n",
              "      box-shadow: 0px 1px 2px rgba(60, 64, 67, 0.3), 0px 1px 3px 1px rgba(60, 64, 67, 0.15);\n",
              "      fill: #174EA6;\n",
              "    }\n",
              "\n",
              "    [theme=dark] .colab-df-convert {\n",
              "      background-color: #3B4455;\n",
              "      fill: #D2E3FC;\n",
              "    }\n",
              "\n",
              "    [theme=dark] .colab-df-convert:hover {\n",
              "      background-color: #434B5C;\n",
              "      box-shadow: 0px 1px 3px 1px rgba(0, 0, 0, 0.15);\n",
              "      filter: drop-shadow(0px 1px 2px rgba(0, 0, 0, 0.3));\n",
              "      fill: #FFFFFF;\n",
              "    }\n",
              "  </style>\n",
              "\n",
              "      <script>\n",
              "        const buttonEl =\n",
              "          document.querySelector('#df-493f7bcd-fbde-49af-986d-3e3f449ffe2e button.colab-df-convert');\n",
              "        buttonEl.style.display =\n",
              "          google.colab.kernel.accessAllowed ? 'block' : 'none';\n",
              "\n",
              "        async function convertToInteractive(key) {\n",
              "          const element = document.querySelector('#df-493f7bcd-fbde-49af-986d-3e3f449ffe2e');\n",
              "          const dataTable =\n",
              "            await google.colab.kernel.invokeFunction('convertToInteractive',\n",
              "                                                     [key], {});\n",
              "          if (!dataTable) return;\n",
              "\n",
              "          const docLinkHtml = 'Like what you see? Visit the ' +\n",
              "            '<a target=\"_blank\" href=https://colab.research.google.com/notebooks/data_table.ipynb>data table notebook</a>'\n",
              "            + ' to learn more about interactive tables.';\n",
              "          element.innerHTML = '';\n",
              "          dataTable['output_type'] = 'display_data';\n",
              "          await google.colab.output.renderOutput(dataTable, element);\n",
              "          const docLink = document.createElement('div');\n",
              "          docLink.innerHTML = docLinkHtml;\n",
              "          element.appendChild(docLink);\n",
              "        }\n",
              "      </script>\n",
              "    </div>\n",
              "  </div>\n",
              "  "
            ],
            "text/plain": [
              "   SMILES sequence  Class                                          Molecule  \\\n",
              "1             C=CC      0  <rdkit.Chem.rdchem.Mol object at 0x7f890286d380>   \n",
              "2            C=CCC      0  <rdkit.Chem.rdchem.Mol object at 0x7f88fe1ca650>   \n",
              "3          C/C=C/C      0  <rdkit.Chem.rdchem.Mol object at 0x7f88fe1ca6c0>   \n",
              "4           C=CCCC      0  <rdkit.Chem.rdchem.Mol object at 0x7f88fe1cab90>   \n",
              "5          C/C=C\\C      0  <rdkit.Chem.rdchem.Mol object at 0x7f88fe1ca420>   \n",
              "..             ...    ...                                               ...   \n",
              "93      I/C(C)=C/C      5  <rdkit.Chem.rdchem.Mol object at 0x7f88fdc5e260>   \n",
              "94   I/C(C)=C(C)/C      5  <rdkit.Chem.rdchem.Mol object at 0x7f88fdc5e2d0>   \n",
              "95  I/C(C)=C(C)/CC      5  <rdkit.Chem.rdchem.Mol object at 0x7f88fdc5e340>   \n",
              "96  I/C(CC)=C(C)/C      5  <rdkit.Chem.rdchem.Mol object at 0x7f88fdc5e3b0>   \n",
              "97  I/C(C)=C(CC)/C      5  <rdkit.Chem.rdchem.Mol object at 0x7f88fdc5e420>   \n",
              "\n",
              "     fingerprint   weight  count    charge    energy  bonds  kappa       chi  \n",
              "1   5.153961e+10   42.081     18  0.047260  1.750000      0   2.74  2.707107  \n",
              "2   6.871948e+10   56.108     24  0.038200  1.083333      1   3.74  3.414214  \n",
              "3   4.294967e+10   56.108     24  0.047002  2.000000      0   3.74  3.414214  \n",
              "4   7.680000e+02   70.135     30  0.035604  1.152778      2   4.74  4.121320  \n",
              "5   4.294967e+10   56.108     24  0.047002  2.000000      0   3.74  3.414214  \n",
              "..           ...      ...    ...       ...       ...    ...    ...       ...  \n",
              "93  7.730941e+10  182.004     30  0.016772  1.349630      0   5.47  4.284457  \n",
              "94  6.871948e+10  196.031     36  0.013863  1.395926      0   6.47  5.154701  \n",
              "95  1.116691e+11  210.058     42  0.013594  1.189259      1   7.47  5.861807  \n",
              "96  1.116691e+11  210.058     42  0.011032  1.183426      1   7.47  5.861807  \n",
              "97  1.116691e+11  210.058     42  0.013594  1.189259      1   7.47  5.861807  \n",
              "\n",
              "[97 rows x 11 columns]"
            ]
          },
          "execution_count": 137,
          "metadata": {},
          "output_type": "execute_result"
        }
      ],
      "source": [
        "test_table['weight'] = [Descriptors.MolWt(mol) for mol in test_table['Molecule']]\n",
        "test_table['count'] = [Descriptors.NumValenceElectrons(mol) for mol in test_table['Molecule']]\n",
        "test_table['charge'] = [Descriptors.MinAbsPartialCharge(mol) for mol in test_table['Molecule']]\n",
        "test_table['energy'] = [Descriptors.MinAbsEStateIndex(mol) for mol in test_table['Molecule']]\n",
        "test_table['bonds'] = [Descriptors.NumRotatableBonds(mol) for mol in test_table['Molecule']]\n",
        "test_table['kappa'] = [Descriptors.Kappa1(mol) for mol in test_table['Molecule']]\n",
        "test_table['chi'] = [Descriptors.Chi0(mol) for mol in test_table['Molecule']]\n",
        "test_table"
      ]
    },
    {
      "cell_type": "code",
      "execution_count": 154,
      "metadata": {
        "id": "hXDRWHRHDVl6"
      },
      "outputs": [],
      "source": [
        "features = test_table[['fingerprint', 'weight', 'count', 'charge', 'energy', 'bonds', 'kappa', 'chi']]\n",
        "target = test_table['Class']"
      ]
    },
    {
      "cell_type": "code",
      "execution_count": 153,
      "metadata": {
        "colab": {
          "base_uri": "https://localhost:8080/",
          "height": 546
        },
        "id": "jxvSdLPADjuQ",
        "outputId": "bf90bb74-fbfe-434d-9647-52343f5ffdb2"
      },
      "outputs": [
        {
          "name": "stdout",
          "output_type": "stream",
          "text": [
            "0.96\n"
          ]
        },
        {
          "data": {
            "text/plain": [
              "<Axes: >"
            ]
          },
          "execution_count": 153,
          "metadata": {},
          "output_type": "execute_result"
        },
        {
          "data": {
            "image/png": "[encoded data removed]",
            "text/plain": [
              "<Figure size 640x480 with 2 Axes>"
            ]
          },
          "metadata": {},
          "output_type": "display_data"
        }
      ],
      "source": [
        "X_train, X_test, y_train, y_test = train_test_split(features, target, test_size = .25)\n",
        "\n",
        "model.fit(X_train, y_train)\n",
        "prediction = model.predict(X_test)\n",
        "print(model.score(X_test, y_test))\n",
        "\n",
        "conf_mat = confusion_matrix(y_test, prediction)\n",
        "sns.heatmap(conf_mat, annot = True, cmap = 'Blues', xticklabels = labels, yticklabels = labels)"
      ]
    },
    {
      "cell_type": "code",
      "execution_count": 152,
      "metadata": {
        "colab": {
          "base_uri": "https://localhost:8080/"
        },
        "id": "luRPxRBCEYf_",
        "outputId": "b247b008-817f-4ae9-cd99-5c6412312ebb"
      },
      "outputs": [
        {
          "data": {
            "text/plain": [
              "0.9800000000000001"
            ]
          },
          "execution_count": 152,
          "metadata": {},
          "output_type": "execute_result"
        }
      ],
      "source": [
        "scores = cross_val_score(model, features_s, target, cv = splitter)\n",
        "scores.mean()"
      ]
    },
    {
      "cell_type": "code",
      "execution_count": 149,
      "metadata": {
        "colab": {
          "base_uri": "https://localhost:8080/"
        },
        "id": "AV01k1KiHe6r",
        "outputId": "a8d56870-9f36-481c-ebcd-45e0b83f0303"
      },
      "outputs": [
        {
          "data": {
            "text/plain": [
              "array([1])"
            ]
          },
          "execution_count": 149,
          "metadata": {},
          "output_type": "execute_result"
        }
      ],
      "source": [
        "test = Chem.MolFromSmiles('C/C=C(C)/CC(C(C)CC)CCC')\n",
        "\n",
        "model.fit(features, target)\n",
        "\n",
        "df = pd.DataFrame()\n",
        "fingerprint = AllChem.GetMorganFingerprintAsBitVect(test, radius = 2, nBits = 512)\n",
        "fp_arr = np.zeros((1,))\n",
        "DataStructs.ConvertToNumpyArray(fingerprint, fp_arr)\n",
        "fp_list = fp_arr.tolist()\n",
        "hash = 0\n",
        "for entry in fp_list:\n",
        "  hash += entry * math.pow(2, fp_list.index(entry))\n",
        "df['fingerprint'] = [hash]\n",
        "df['weight'] = [Descriptors.MolWt(test)]\n",
        "df['count'] = [Descriptors.NumValenceElectrons(test)]\n",
        "df['charge'] = [Descriptors.MinAbsPartialCharge(test)]\n",
        "df['energy'] = [Descriptors.MinAbsEStateIndex(test)]\n",
        "df['bonds'] = [Descriptors.NumRotatableBonds(test)]\n",
        "df['kappa'] = [Descriptors.Kappa1(test)]\n",
        "df['chi'] = [Descriptors.Chi0(test)]\n",
        "\n",
        "model.predict(df)"
      ]
    },
    {
      "cell_type": "markdown",
      "metadata": {
        "id": "A_IOaIuDK7_h"
      },
      "source": [
        "Predicted the right class"
      ]
    }
  ],
  "metadata": {
    "colab": {
      "include_colab_link": true,
      "provenance": []
    },
    "kernelspec": {
      "display_name": "Python 3",
      "name": "python3"
    },
    "language_info": {
      "codemirror_mode": {
        "name": "ipython",
        "version": 3
      },
      "file_extension": ".py",
      "mimetype": "text/x-python",
      "name": "python",
      "nbconvert_exporter": "python",
      "pygments_lexer": "ipython3",
      "version": "3.11.2"
    }
  },
  "nbformat": 4,
  "nbformat_minor": 0
}
